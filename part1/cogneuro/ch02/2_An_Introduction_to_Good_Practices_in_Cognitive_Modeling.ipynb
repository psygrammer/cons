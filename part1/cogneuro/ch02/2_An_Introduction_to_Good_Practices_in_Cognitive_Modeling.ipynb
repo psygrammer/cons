{
 "cells": [
  {
   "cell_type": "markdown",
   "metadata": {},
   "source": [
    "# Chapter 2. An Introduction to Good Practices in Cognitive Modeling"
   ]
  },
  {
   "cell_type": "markdown",
   "metadata": {},
   "source": [
    "# Contents\n",
    "* 2.1 Introduction\n",
    "* 2.2 Conduct Parameter Recovery Simulations\n",
    "* 2.3 Carry Out Tests of Selective Influence\n",
    "* 2.4 Quantify Uncertainty in Parameter Estimates\n",
    "* 2.5 Show Model Fit\n",
    "* 2.6 Engage in Model Selection\n",
    "* 2.7 Concluding Remarks"
   ]
  },
  {
   "cell_type": "markdown",
   "metadata": {},
   "source": [
    "# Abstract\n",
    "* Cognitive modeling can provide important insights into the underlying causes of behavior, but the validity of those insights rests on careful model development and checking.\n",
    "* We provide guidelines on five important aspects of the practice of cognitive modeling: \n",
    "    - parameter recovery, \n",
    "    - testing selective influence of experimental manipulations on model parameters, \n",
    "    - quantifying uncertainty in parameter estimates, \n",
    "    - testing and displaying model fit, and \n",
    "    - selecting among different model parameterizations and types of models."
   ]
  },
  {
   "cell_type": "markdown",
   "metadata": {},
   "source": [
    "# 2.1 Introduction"
   ]
  },
  {
   "cell_type": "markdown",
   "metadata": {},
   "source": [
    "* One of the central challenges for the study of the human mind is that cognitive processes cannot be directly observed.\n",
    "* Another challenge, one that exacerbates the first, is that task performance is often the end result of an unknown combination of several different cognitive processes.\n",
    "* Observed task performance needs to be decomposed in terms of the separate contributions of relevant cognitive processes. Such decomposition almost always requires the use of a cognitive process model.\n",
    "* Cognitive process models describe how particular combinations of cognitive processes and mechanisms give rise to observed behavior."
   ]
  },
  {
   "cell_type": "markdown",
   "metadata": {},
   "source": [
    "### example : linear ballistic accumulator model (LBA)"
   ]
  },
  {
   "cell_type": "markdown",
   "metadata": {},
   "source": [
    "#### 참고자료\n",
    "* [2] Response Times and Their Use in the Cognitive Science of Choice - http://matt.colorado.edu/compcogworkshop/talks/thomas.pptx\n",
    "* [3] PERCEPTUAL DECISION NEUROSCIENCES – A MODEL-BASED REVIEW - http://www.leendertvanmaanen.com/resources/pubs/MulderMaanenForstmann2014.pdf\n",
    "* [4] Getting more from accuracy and response time data: Methods for fitting the Linear Ballistic Accumulator  - http://www.ruudwetzels.com/WinBUGSdev/WinBUGSdev_articles/fitLBA.pdf\n",
    "* [5] Modeling response inhibition - http://www.slideshare.net/bramzandbelt/modeling-response-inhibition"
   ]
  },
  {
   "cell_type": "markdown",
   "metadata": {},
   "source": [
    "<img src=\"http://www.frontiersin.org/files/Articles/83620/fnins-08-00148-HTML/image_m/fnins-08-00148-g001.jpg\" width=600 />"
   ]
  },
  {
   "cell_type": "markdown",
   "metadata": {},
   "source": [
    "#### For example, the linear ballistic accumulator model (LBA; [1]) assumes that in the line-tilt task there exist two accumulators—one for each response—that each race towards an evidence threshold. \n",
    "* The psychological processes in the LBA model are quantified by pa- rameters; \n",
    "* for instance, the threshold parameter reflects response caution. Given the model assumptions, the observed data can be used to estimate model parameters, and so draw conclusions about the latent psychological processes that drive task performance. \n",
    "* <font color=\"red\">This procedure is called cognitive modeling</font> "
   ]
  },
  {
   "cell_type": "markdown",
   "metadata": {},
   "source": [
    "In each of five sections we provide a specific guideline and demonstrate its use with a concrete application."
   ]
  },
  {
   "cell_type": "markdown",
   "metadata": {},
   "source": [
    "# 2.2 Conduct Parameter Recovery Simulations\n",
    "* 2.2.1 Examples of Parameter Recovery Simulations"
   ]
  },
  {
   "cell_type": "markdown",
   "metadata": {},
   "source": [
    "#### One of the most common goals when fitting a cognitive model to data is \n",
    "* to <font color=\"red\">estimate the parameters</font> so that \n",
    "    - they can be compared across conditions, or \n",
    "    - across groups of people, \n",
    "        - illuminating the underlying causes of differences in behavior."
   ]
  },
  {
   "cell_type": "markdown",
   "metadata": {},
   "source": [
    "#### For example, when Ratcliff and colleagues compared diffusion-model parameter estimates\n",
    "* from older and younger participants, they found that the elderly were slower mainly due to greater caution rather than reduced information processing speed as had previously been assumed "
   ]
  },
  {
   "cell_type": "markdown",
   "metadata": {},
   "source": [
    "<img src=\"http://www.frontiersin.org/files/Articles/55610/fninf-07-00014-HTML/image_m/fninf-07-00014-g001.jpg\" width=600 />"
   ]
  },
  {
   "cell_type": "markdown",
   "metadata": {},
   "source": [
    "#### Simulation"
   ]
  },
  {
   "cell_type": "markdown",
   "metadata": {},
   "source": [
    "* However, many interesting cognitive models do not have well-understood estimation properties. Often the models are newly developed, or are new modifications of existing models, or sometimes they are just existing models whose parameter estimation properties have not been studied. In these cases it can be useful to <font color=\"red\">conduct a parameter recovery simulation study</font>.\n",
    "* The basic approach of a parameter recovery simulation study is to <font color=\"red\">generate synthetic data from the model</font>, which of course means that the true model parameters are known.\n",
    "* <font color=\"blue\">The synthetic data can then be analysed using the same techniques applied to real data, and the recovered parameter estimates can be compared against the true values.</font>\n",
    "    - When conducting a parameter recovery simulation, it is important that the analysis methods (the model fitting or parameter estimation methods) are the same as those used in the analysis of real data."
   ]
  },
  {
   "cell_type": "markdown",
   "metadata": {},
   "source": [
    "## 2.2.1 Examples of Parameter Recovery Simulations"
   ]
  },
  {
   "cell_type": "markdown",
   "metadata": {},
   "source": [
    "### example : EZ-diffusion model VS linear ballistic accumulator (LBA) model"
   ]
  },
  {
   "cell_type": "markdown",
   "metadata": {},
   "source": [
    "<img src=\"http://www.frontiersin.org/files/Articles/83620/fnins-08-00148-HTML/image_m/fnins-08-00148-g001.jpg\" width=600 />"
   ]
  },
  {
   "cell_type": "markdown",
   "metadata": {},
   "source": [
    "### example : Balloon Analogue Risk Task (BART)"
   ]
  },
  {
   "cell_type": "markdown",
   "metadata": {},
   "source": [
    "#### 참고자료\n",
    "* [6] Balloon Analog Risk Task (BART)- Joggle Research for iPad - https://www.youtube.com/watch?v=foy3ZVokjFM\n",
    "* [7] Balloon Analog Risk Task (BART) online demo - http://timo.gnambs.at/de/scripts/bart\n",
    "* [8] Cognitive model decomposition of the BART: Assessment and application - http://www.ejwagenmakers.com/2011/vanRavenzwaaijEtAl2011BART.pdf"
   ]
  },
  {
   "cell_type": "markdown",
   "metadata": {},
   "source": [
    "<img src=\"http://nbviewer.jupyter.org/github/psygrammer/coco/blob/master/part3/bayes/ch16/figures/cap16.1.png\" width=600 />"
   ]
  },
  {
   "cell_type": "markdown",
   "metadata": {},
   "source": [
    "However, as pointed out by Wallsten and colleagues, performance on the BART task can be influenced by multiple psychological processes. To decompose observed behavior into psychological processes and obtain a separate estimate for the propensity to take risk, Wallsten and colleagues proposed a series of process models."
   ]
  },
  {
   "cell_type": "markdown",
   "metadata": {},
   "source": [
    "* One of the Wallsten models for the BART task (i.e., “Model 3” from (14), their Table 2) has four parameters: α, β, γ +, and μ.\n",
    "* What is important here is that van Ravenzwaaij and colleagues <font color=\"red\">conducted a series of studies to examine the parameter recovery</font>"
   ]
  },
  {
   "cell_type": "markdown",
   "metadata": {},
   "source": [
    "<img src=\"figures/cap2.1.png\" width=600 />"
   ]
  },
  {
   "cell_type": "markdown",
   "metadata": {},
   "source": [
    "The important lesson here is that, even though a model may have parameters that are conceptually distinct, the way in which they interact given the mathematical form of a model may mean that they are not distinct in practice. \n",
    "* In such circumstances it is best to study the nature of the interaction and either modify the model or develop new paradigms that produce data capable of discriminating these parameters. \n",
    "* The complete set of model recovery studies led van Ravenzwaaij and colleagues to propose a two-parameter BART model"
   ]
  },
  {
   "cell_type": "markdown",
   "metadata": {},
   "source": [
    "# 2.3 Carry Out Tests of Selective Influence\n",
    "* 2.3.1 Examples of Selective Influence Tests"
   ]
  },
  {
   "cell_type": "markdown",
   "metadata": {},
   "source": [
    "Cognitive models can be useful tools for understanding and predicting behavior, and for reasoning about psychological processes, but—as with all theories—utility hinges on validity. <font color=\"red\">Establishing the validity of a model is a difficult problem.</font>\n",
    "* For example\n",
    "    - a model of decision making, developed for laboratory tasks, might be validated by comparison against the decisions of consumers in real shopping situations. External data of this sort are not always available; even when they are, their ecological validity is not always clear.\n",
    "    - it is increasingly common to collect neural data such as electroencephalography (EEG) or functional magnetic resonance imaging (fMRI) measurements simultaneously with behavioral data. Although it is easy to agree that the neural data should have some relationship to the cognitive model, it is not often clear what that relationship should be—which aspects of"
   ]
  },
  {
   "cell_type": "markdown",
   "metadata": {},
   "source": [
    "An alternative way to <font color=\"red\">establish model validity is via tests of selective influence</font>. \n",
    "* Rather than using external data as the benchmark of validity, this method <font color=\"red\">uses experimental manipulations</font>. \n",
    "* Selective influence testing is based on the idea that a valid model can titrate complex effects in raw data into separate and simpler accounts in * From this perspective, a model is valid to the extent that it make sense of otherwise confusing data."
   ]
  },
  {
   "cell_type": "markdown",
   "metadata": {},
   "source": [
    "## 2.3.1 Examples of Selective Influence Tests"
   ]
  },
  {
   "cell_type": "markdown",
   "metadata": {},
   "source": [
    "### example : Signal detection theory"
   ]
  },
  {
   "cell_type": "markdown",
   "metadata": {},
   "source": [
    "#### 참고자료 \n",
    "* [9] signal detection theory - http://www.slideshare.net/GauriSShrestha/signal-detection-theory"
   ]
  },
  {
   "cell_type": "markdown",
   "metadata": {},
   "source": [
    "Signal detection theory has a long history of checking selective influence. \n",
    "* Nearly half a century ago, Parks demonstrated that participants tended to match the probability of their responses to the relative frequency of the different stimulus classes. \n",
    "* This behavior is called probability matching, and it is statistically optimal in some situa- tions. Probability matching requires decision makers to adjust their decision threshold (in SDT terms: bias) in response to changes in relative stimulus frequencies. \n",
    "* Parks— and many since—have demonstrated that decision-makers, from people to pigeons and rats, do indeed change their bias parameters appropriately. \n",
    "* This demonstrates selective influence, because the predicted manipulation influences the predicted model parameter, and only that parameter. Similar demonstrations have been made for changes in signal detection bias due to other manipulations (e.g., the strength of memories)"
   ]
  },
  {
   "cell_type": "markdown",
   "metadata": {},
   "source": [
    "### exmaple : Ratcliff's Diffusion Model"
   ]
  },
  {
   "cell_type": "markdown",
   "metadata": {},
   "source": [
    "<img src=\"figures/cap2.7.png\" width=600 />"
   ]
  },
  {
   "cell_type": "markdown",
   "metadata": {},
   "source": [
    "* Models of simple perceptual decision making, particularly Ratcliff’s diffusion model, have around six basic parameters. Their apparent complexity can be justified, however, through tests of selective influence. \n",
    "* <font color=\"red\">In seminal work, Ratcliff and Rouder orthogonally manipulated</font> the difficulty of decisions and instructions about cautious vs. speedy decision-making, and demonstrated that manipulations of difficulty selectively influenced a stimulus-related model parameter (drift rate) while changes to instructions influenced a caution-related model parameter (decision boundaries)."
   ]
  },
  {
   "cell_type": "markdown",
   "metadata": {},
   "source": [
    "# 2.4 Quantify Uncertainty in Parameter Estimates\n",
    "* 2.4.1 Example of Quantifying Uncertainty in Parameter Estimates"
   ]
  },
  {
   "cell_type": "markdown",
   "metadata": {},
   "source": [
    "In general, when we wish to use a model to learn about the cognitive processes that drive task performance, it is appropriate to present the precision with which these processes have been estimated. The precision of the estimates can be obtained in several ways. \n",
    "* Classical or frequentist modelers \n",
    "    - can use the bootstrap \n",
    "    - classical measures of uncertainty such as the standard error and the confidence interval. \n",
    "* Bayesian modelers \n",
    "    - can represent uncertainty in the parameter estimates by \n",
    "    - plotting the posterior distribution or \n",
    "    - a summary measure such as a credible interval."
   ]
  },
  {
   "cell_type": "markdown",
   "metadata": {},
   "source": [
    "## 2.4.1 Example of Quantifying Uncertainty in Parameter Estimates"
   ]
  },
  {
   "cell_type": "markdown",
   "metadata": {},
   "source": [
    "#### 참고자료\n",
    "* [10] Model Comparison and the Principle of Parsimony - http://www.ejwagenmakers.com/inpress/VandekerckhoveEtAlinpress.pdf"
   ]
  },
  {
   "cell_type": "markdown",
   "metadata": {},
   "source": [
    "<img src=\"figures/cap2.8.png\" width=600 />"
   ]
  },
  {
   "cell_type": "markdown",
   "metadata": {},
   "source": [
    "In an elegant experiment, Wagenaar and Boer assessed the impact of misleading information on earlier memories\n",
    "* Wagenaar and Boer constructed several models to formalize their predictions. \n",
    "    - destructive updating model\n",
    "        - One of these models is the “destructive updating model”, and its critical parameter d indicates the probability that the misleading information about the stop sign (when properly encoded) destroys the earlier memory about the traffic light.\n",
    "    - no-conflict model\n",
    "        - When d = 0, the misleading information does not affect the earlier memory and the destructive updating model reduces to the “no-conflict model”. Wagenaar and Boer fit the destructive updating model to the data and found that the single best parameter estimate was dˆ = 0 ."
   ]
  },
  {
   "cell_type": "markdown",
   "metadata": {},
   "source": [
    "<img src=\"figures/cap2.2.png\" width=600 />"
   ]
  },
  {
   "cell_type": "markdown",
   "metadata": {},
   "source": [
    "# 2.5 Show Model Fit\n",
    "* 2.5.1 Examples of Showing Model Fit"
   ]
  },
  {
   "cell_type": "markdown",
   "metadata": {},
   "source": [
    "<img src=\"figures/cap2.3.png\" width=600 />"
   ]
  },
  {
   "cell_type": "markdown",
   "metadata": {},
   "source": [
    "## 2.5.1 Examples of Showing Model Fit"
   ]
  },
  {
   "cell_type": "markdown",
   "metadata": {},
   "source": [
    "### example : Lexical Decision Task"
   ]
  },
  {
   "cell_type": "markdown",
   "metadata": {},
   "source": [
    "#### 참고\n",
    "* [11] Lexical Decision Task - http://www.psytoolkit.org/experiment-library/ldt.html"
   ]
  },
  {
   "cell_type": "markdown",
   "metadata": {},
   "source": [
    "12-parameter diffusion model VS 19-parameter model VS 27-parameter model\n",
    "* Their interest was in whether instruction emphasis could affect drift rate parameters, so they contrasted this 19 parameter “selective influence” model with a 27-parameter (“least constrained”) model allowing speed emphasis to affect the mean and standard deviation of drift rates.\n",
    "* We discuss this contrast in a following section but for now we focus on the fit of the selective-influence model."
   ]
  },
  {
   "cell_type": "markdown",
   "metadata": {},
   "source": [
    "<img src=\"figures/cap2.4.png\" width=600 />"
   ]
  },
  {
   "cell_type": "markdown",
   "metadata": {},
   "source": [
    "<img src=\"figures/cap2.5.1.png\" width=600 />\n",
    "<img src=\"figures/cap2.5.2.png\" width=600 />"
   ]
  },
  {
   "cell_type": "markdown",
   "metadata": {},
   "source": [
    "# 2.6 Engage in Model Selection\n",
    "* 2.6.1 Examples of Model Selection"
   ]
  },
  {
   "cell_type": "markdown",
   "metadata": {},
   "source": [
    "## 2.6.1 Examples of Model Selection"
   ]
  },
  {
   "cell_type": "markdown",
   "metadata": {},
   "source": [
    "<img src=\"figures/cap2.6.png\" width=600 />"
   ]
  },
  {
   "cell_type": "markdown",
   "metadata": {},
   "source": [
    "# 2.7 Concluding Remarks"
   ]
  },
  {
   "cell_type": "markdown",
   "metadata": {},
   "source": [
    "# 참고자료\n",
    "* [1] \n",
    "* [2] Response Times and Their Use in the Cognitive Science of Choice - http://matt.colorado.edu/compcogworkshop/talks/thomas.pptx\n",
    "* [3] PERCEPTUAL DECISION NEUROSCIENCES – A MODEL-BASED REVIEW - http://www.leendertvanmaanen.com/resources/pubs/MulderMaanenForstmann2014.pdf\n",
    "* [4] Getting more from accuracy and response time data: Methods for fitting the Linear Ballistic Accumulator  - http://www.ruudwetzels.com/WinBUGSdev/WinBUGSdev_articles/fitLBA.pdf\n",
    "* [5] Modeling response inhibition - http://www.slideshare.net/bramzandbelt/modeling-response-inhibition\n",
    "* [6] Balloon Analog Risk Task (BART)- Joggle Research for iPad - https://www.youtube.com/watch?v=foy3ZVokjFM\n",
    "* [7] Balloon Analog Risk Task (BART) online demo - http://timo.gnambs.at/de/scripts/bart\n",
    "* [8] Cognitive model decomposition of the BART: Assessment and application - http://www.ejwagenmakers.com/2011/vanRavenzwaaijEtAl2011BART.pdf\n",
    "* [9] signal detection theory - http://www.slideshare.net/GauriSShrestha/signal-detection-theory\n",
    "* [10] Model Comparison and the Principle of Parsimony - http://www.ejwagenmakers.com/inpress/VandekerckhoveEtAlinpress.pdf\n",
    "* [11] Lexical Decision Task - http://www.psytoolkit.org/experiment-library/ldt.html"
   ]
  },
  {
   "cell_type": "code",
   "execution_count": null,
   "metadata": {
    "collapsed": true
   },
   "outputs": [],
   "source": []
  }
 ],
 "metadata": {
  "kernelspec": {
   "display_name": "Python 2",
   "language": "python",
   "name": "python2"
  },
  "language_info": {
   "codemirror_mode": {
    "name": "ipython",
    "version": 2
   },
   "file_extension": ".py",
   "mimetype": "text/x-python",
   "name": "python",
   "nbconvert_exporter": "python",
   "pygments_lexer": "ipython2",
   "version": "2.7.10"
  }
 },
 "nbformat": 4,
 "nbformat_minor": 0
}
