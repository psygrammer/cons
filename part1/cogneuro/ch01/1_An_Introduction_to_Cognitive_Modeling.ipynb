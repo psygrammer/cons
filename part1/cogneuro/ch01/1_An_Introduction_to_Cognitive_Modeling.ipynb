{
 "cells": [
  {
   "cell_type": "markdown",
   "metadata": {},
   "source": [
    "# 1. An Introduction to Cognitive Modeling"
   ]
  },
  {
   "cell_type": "markdown",
   "metadata": {},
   "source": [
    "* 싸이그래머+바이오스핀 / 의식+인지신경모델링 [1]\n",
    "* 김무성"
   ]
  },
  {
   "cell_type": "markdown",
   "metadata": {},
   "source": [
    "# Contents\n",
    "* 1.1 Introduction\n",
    "* 1.2 What is a Cognitive Model?\n",
    "* 1.3 Why Do We Model?\n",
    "    - 1.3.1 Validating our Reasoning and Understanding\n",
    "    - 1.3.2 Examine Necessity and Sufficiency\n",
    "    - 1.3.3 Using Models to Measure Underlying Individual Variables\n",
    "* 1.4 Open Challenges\n",
    "* 1.5 Concluding Comments"
   ]
  },
  {
   "cell_type": "markdown",
   "metadata": {},
   "source": [
    "# 1.1 Introduction"
   ]
  },
  {
   "cell_type": "markdown",
   "metadata": {},
   "source": [
    "* The principal goal of cognitive science is to <font color=\"red\">understand the processes that underlie our cognition</font>: \n",
    "    - why do we sometimes forget information within seconds? \n",
    "    - How come we still remember the name of our first-grade teacher? \n",
    "* In this chapter, we show that to answer such questions, we ought to rely on \n",
    "    - <font color=\"red\">computational models</font> rather than conducting our theorizing exclusively at a \n",
    "    - <font color=\"blue\">verbal level</font>.\n",
    "        - “short-term memory & “long-term memory\""
   ]
  },
  {
   "cell_type": "markdown",
   "metadata": {},
   "source": [
    "#### This emergence of social structure \n",
    "can be illustrated with the model presented by Kenrick et al. [3], which combined an evolutionary approach to understanding <font color=\"red\">individual behavior</font> with a <font color=\"blue\">dynamic representation of social interactions</font>."
   ]
  },
  {
   "cell_type": "markdown",
   "metadata": {},
   "source": [
    "<img src=\"figures/cap1.1.png\" width=600 />"
   ]
  },
  {
   "cell_type": "markdown",
   "metadata": {},
   "source": [
    "<img src=\"figures/cap1.2.png\" width=600 />"
   ]
  },
  {
   "cell_type": "markdown",
   "metadata": {},
   "source": [
    "<img src=\"figures/cap1.3.1.png\" width=500 />\n",
    "<img src=\"figures/cap1.3.2.png\" width=600 />"
   ]
  },
  {
   "cell_type": "markdown",
   "metadata": {},
   "source": [
    "# 1.2 What is a Cognitive Model?"
   ]
  },
  {
   "cell_type": "markdown",
   "metadata": {},
   "source": [
    "At its most basic, a model is an abstract construct that captures structure in the data\n",
    "* For example, \n",
    "    - a good model for the set of numbers {1, 3, 5} is their mean, namely 3. \n",
    "    - A good model for the relationship between a society’s happiness and its economic wealth is a negatively accelerated function, such that happiness rises steeply as one moves from poverty to a modest level of economic security, but further increases in happiness with increasing material wealth get smaller and smaller. \n",
    "     - The two models just mentioned are called <font color=\"red\">descriptive</font>, \n",
    "         - because they do little more than describe data or a relationship between variables."
   ]
  },
  {
   "cell_type": "markdown",
   "metadata": {},
   "source": [
    "For example, there has been considerable debate about how exactly a new skill is acquired with practice."
   ]
  },
  {
   "cell_type": "markdown",
   "metadata": {},
   "source": [
    "#### Power law"
   ]
  },
  {
   "cell_type": "markdown",
   "metadata": {
    "collapsed": true
   },
   "source": [
    "<img src=\"figures/cap1.4.png\"  />"
   ]
  },
  {
   "cell_type": "markdown",
   "metadata": {},
   "source": [
    "where RT represents the time to perform the task, N represents the number of learning trials to date, and β is the learning rate."
   ]
  },
  {
   "cell_type": "markdown",
   "metadata": {},
   "source": [
    "#### exponential function"
   ]
  },
  {
   "cell_type": "markdown",
   "metadata": {},
   "source": [
    "More recently, it has been proposed that the data are better described by an exponential function:"
   ]
  },
  {
   "cell_type": "markdown",
   "metadata": {},
   "source": [
    "<img src=\"figures/cap1.5.png\"  />"
   ]
  },
  {
   "cell_type": "markdown",
   "metadata": {},
   "source": [
    "where N is as before and α the learning rate."
   ]
  },
  {
   "cell_type": "markdown",
   "metadata": {},
   "source": [
    "#### prediction"
   ]
  },
  {
   "cell_type": "markdown",
   "metadata": {},
   "source": [
    "* However, frequently cognitive scientists want to do more than describe the data. For example, we frequently want to predict new observations; we may want to know how much happiness in our society will increase if we expand our gross na- tional product by $ 1,000,000,000. (If you live in a wealthy country, the answer is “not much.”)\n",
    "* As important as prediction is to the pursuit of science, it is rarely the full answer.\n",
    "* Thus, most cognitive modeling goes beyond description and it also goes beyond prediction. Instead, most models are used as an explanatory device that formalizes our understanding of how human cognition operates."
   ]
  },
  {
   "cell_type": "markdown",
   "metadata": {},
   "source": [
    "What, then, would it mean to explain something?\n",
    "* A + 4 = E\n",
    "* A + 4 =?"
   ]
  },
  {
   "cell_type": "markdown",
   "metadata": {},
   "source": [
    "# 1.3 Why Do We Model?\n",
    "* 1.3.1 Validating our Reasoning and Understanding\n",
    "* 1.3.2 Examine Necessity and Sufficiency\n",
    "* 1.3.3 Using Models to Measure Underlying Individual Variables"
   ]
  },
  {
   "cell_type": "markdown",
   "metadata": {},
   "source": [
    "## 1.3.1 Validating our Reasoning and Understanding"
   ]
  },
  {
   "cell_type": "markdown",
   "metadata": {},
   "source": [
    "Science depends on reproducibility."
   ]
  },
  {
   "cell_type": "markdown",
   "metadata": {},
   "source": [
    "There is another aspect to reproducibility that is tacitly taken for granted by most researchers but often fails to be explored in sufficient depth: Scientists assume that we are all reasoning on the same terms."
   ]
  },
  {
   "cell_type": "markdown",
   "metadata": {},
   "source": [
    "However, like it or not, communication among scientists resembles a game of “telephone” (also known as “Chinese whispers”) whereby theories and models are formulated and recorded on paper, before being read by the next scientist who needs to understand them, and may summarise those ideas in their own paper.\n",
    "* Each step in this chain involves cognitive reasoning, and is thus subject to the known limitations of human cognition"
   ]
  },
  {
   "cell_type": "markdown",
   "metadata": {},
   "source": [
    "#### spreading activation theory"
   ]
  },
  {
   "cell_type": "markdown",
   "metadata": {},
   "source": [
    "* The implications of this inescapable reliance on human reasoning can be illus- trated with the popular “spreading activation theory”\n",
    "* To understand and communicate the notion of spreading activation, several analogies might be used: Some researchers liken the spread to electricity passing through wires [22] whereas others liken it to water passing through pipes (as one of us has done in lectures to undergraduates).\n",
    "* This problem—that the choice of analogy will affect a scientist’s understanding of her own model—will undoubtedly be compounded when theorizing involves groups of scholars who com- municate with each other."
   ]
  },
  {
   "cell_type": "markdown",
   "metadata": {},
   "source": [
    "Those reasoning problems can be alleviated by using computational models in preference to verbal theorizing. A principal advantage of computational models is that we are forced to specify all parts of our theory."
   ]
  },
  {
   "cell_type": "markdown",
   "metadata": {},
   "source": [
    "#### ACT (Adaptive Control of Thought) theory"
   ]
  },
  {
   "cell_type": "markdown",
   "metadata": {},
   "source": [
    "* In the case of spreading activation, we must answer such questions as: Can activation flow backwards to immediately preceding nodes? Is the amount of activation unlimited? Is there any leakage of activation from nodes? Such questions have been answered in Anderson’s implementation of spreading activation in a memory model based in the computational framework of his ACT (Adaptive Control of Thought) theory.\n",
    "* This theory represents knowledge as units (or nodes) that are associated to each other to varying degrees."
   ]
  },
  {
   "cell_type": "markdown",
   "metadata": {},
   "source": [
    "Detailed specifications of this type, which verbal theories omit altogether, render a computational model more readily communicable — e.g., by sharing the computer code with other scholars — and hence more testable and falsifiable."
   ]
  },
  {
   "cell_type": "markdown",
   "metadata": {},
   "source": [
    "## 1.3.2 Examine Necessity and Sufficiency\n",
    "* 1.3.2.1 Model Comparison\n",
    "* 1.3.2.2 Sufficiency of a Single Model"
   ]
  },
  {
   "cell_type": "markdown",
   "metadata": {},
   "source": [
    "Let’s suppose, then, that our computational model has prevented us from going astray in our reasoning and theorizing. Let’s furthermore suppose that we have fit the model to a broad range of data. What conclusions can we legitimately draw from this successful modeling?"
   ]
  },
  {
   "cell_type": "markdown",
   "metadata": {},
   "source": [
    "* sufficiency\n",
    "* necessity\n",
    "* good model fit\n",
    "* identifiability problem"
   ]
  },
  {
   "cell_type": "markdown",
   "metadata": {},
   "source": [
    "### 1.3.2.1 Model Comparison"
   ]
  },
  {
   "cell_type": "markdown",
   "metadata": {},
   "source": [
    "Two models that have been influential in accounting for this ability to categorize are\n",
    "* General Recognition Theory (GRT) and \n",
    "* the Generalized Context Model (GCM)"
   ]
  },
  {
   "cell_type": "markdown",
   "metadata": {},
   "source": [
    "Quantitative model comparison has become a standard tool in cognitive science, and the outcome of comparisons has influenced theory development in many instances\n",
    "* model complexity"
   ]
  },
  {
   "cell_type": "markdown",
   "metadata": {},
   "source": [
    "### 1.3.2.2 Sufficiency of a Single Model"
   ]
  },
  {
   "cell_type": "markdown",
   "metadata": {},
   "source": [
    "#### SIMPLE (Scale-Invariant Memory, Perception, and LEarning) model"
   ]
  },
  {
   "cell_type": "markdown",
   "metadata": {},
   "source": [
    "* This model treats the problem of ex-plaining memory as fundamentally similar to the process by which we discriminate between different stimuli in multidimensional space.\n",
    "* The fact that a single-process model can handle a number of results that have conventionally been interpreted as reflecting the involvement of multiple memory systems is notable."
   ]
  },
  {
   "cell_type": "markdown",
   "metadata": {},
   "source": [
    "## 1.3.3 Using Models to Measure Underlying Individual Variables"
   ]
  },
  {
   "cell_type": "markdown",
   "metadata": {},
   "source": [
    "* The last few decades have seen an increasing trend towards describing and analyzing the behavior and cognition of individuals rather than groups of people.\n",
    "* The emphasis on individual-level performance has given rise to a novel application of computational models, namely the identification and description of individual differences via model parameters that would otherwise escape detection by conventional statistical means."
   ]
  },
  {
   "cell_type": "markdown",
   "metadata": {},
   "source": [
    "#### The capacity of people’s working memory (WMC)"
   ]
  },
  {
   "cell_type": "markdown",
   "metadata": {},
   "source": [
    "#### response-time model"
   ]
  },
  {
   "cell_type": "markdown",
   "metadata": {},
   "source": [
    "Finally, recent work reinforcing one of the general themes of this book—the benefits of modelling neural processes with computational models—has examined correlations between model parameters and brain activity, showing that changes in response urgency specifically correlated with changes in activity in the basal ganglia. "
   ]
  },
  {
   "cell_type": "markdown",
   "metadata": {},
   "source": [
    "These are just a few of the growing number of instances in which modeling has served to uncover individual differences that would have otherwise remained hidden, thereby attesting to the great promise of cognitive psychometrics."
   ]
  },
  {
   "cell_type": "markdown",
   "metadata": {},
   "source": [
    "# 1.4 Open Challenges"
   ]
  },
  {
   "cell_type": "markdown",
   "metadata": {},
   "source": [
    "# 1.5 Concluding Comments"
   ]
  },
  {
   "cell_type": "markdown",
   "metadata": {},
   "source": [
    "# 참고자료\n",
    "* [1]"
   ]
  }
 ],
 "metadata": {
  "kernelspec": {
   "display_name": "Python 2",
   "language": "python",
   "name": "python2"
  },
  "language_info": {
   "codemirror_mode": {
    "name": "ipython",
    "version": 2
   },
   "file_extension": ".py",
   "mimetype": "text/x-python",
   "name": "python",
   "nbconvert_exporter": "python",
   "pygments_lexer": "ipython2",
   "version": "2.7.10"
  }
 },
 "nbformat": 4,
 "nbformat_minor": 0
}
